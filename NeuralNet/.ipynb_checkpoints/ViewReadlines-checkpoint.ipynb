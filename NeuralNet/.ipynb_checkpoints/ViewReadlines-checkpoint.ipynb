{
 "cells": [
  {
   "cell_type": "code",
   "execution_count": 2,
   "id": "539c9e74",
   "metadata": {},
   "outputs": [
    {
     "data": {
      "text/plain": [
       "100"
      ]
     },
     "execution_count": 2,
     "metadata": {},
     "output_type": "execute_result"
    }
   ],
   "source": [
    "# Читаем файл с помощью функции readlines(), это позволит в дальнейшем\n",
    "# построчно обращаться к считанным данным:\n",
    "#    data_list[0] — это первая запись, \n",
    "#    data_list[9] — десятая и т.п\n",
    "data_file = open(\"mnist_dataset/mnist_train_100.csv\",'r') \n",
    "data_list = data_file.readlines() \n",
    "data_file.close()\n",
    "\n",
    "# Определяем число строк\n",
    "len(data_list)\n",
    "\n",
    "# Показываем нулевую строку\n",
    "data_list[0]"
   ]
  },
  {
   "cell_type": "code",
   "execution_count": null,
   "id": "ffc612d1",
   "metadata": {},
   "outputs": [],
   "source": []
  }
 ],
 "metadata": {
  "kernelspec": {
   "display_name": "Python 3 (ipykernel)",
   "language": "python",
   "name": "python3"
  },
  "language_info": {
   "codemirror_mode": {
    "name": "ipython",
    "version": 3
   },
   "file_extension": ".py",
   "mimetype": "text/x-python",
   "name": "python",
   "nbconvert_exporter": "python",
   "pygments_lexer": "ipython3",
   "version": "3.11.5"
  }
 },
 "nbformat": 4,
 "nbformat_minor": 5
}
