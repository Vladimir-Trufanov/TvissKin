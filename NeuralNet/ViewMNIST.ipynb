{
 "cells": [
  {
   "cell_type": "code",
   "execution_count": 4,
   "id": "6a15a587",
   "metadata": {},
   "outputs": [
    {
     "data": {
      "text/plain": [
       "<matplotlib.image.AxesImage at 0x18e8e1b3fd0>"
      ]
     },
     "execution_count": 4,
     "metadata": {},
     "output_type": "execute_result"
    },
    {
     "data": {
      "image/png": "[encoded data removed]",
      "text/plain": [
       "<Figure size 640x480 with 1 Axes>"
      ]
     },
     "metadata": {},
     "output_type": "display_data"
    }
   ],
   "source": [
    "# Просмотр строк файла MNIST в графическом представлении:\n",
    "# разбить длинную текстовую строку значений, разделенных запятыми, на отдельные значения, используя символ запятой\n",
    "# в качестве разделителя; проигнорировать первое значение, являющееся маркером (цифрой, изображение которой по цвету \n",
    "# пикселов размещено далее), извлечь оставшиеся 28*28=784 значения и преобразовать их в массив, состоящий из 28 строк \n",
    "# и 28 столбцов; отобразить массив точек\n",
    "\n",
    "import numpy\n",
    "import matplotlib.pyplot \n",
    "%matplotlib inline\n",
    "\n",
    "data_file = open(\"mnist_dataset/mnist_train_100.csv\",'r') \n",
    "data_list = data_file.readlines() \n",
    "data_file.close()\n",
    "\n",
    "# Разбиваем заданную строку на отдельные значения, используя запятую в качестве разделителя\n",
    "all_values = data_list[2].split(',')\n",
    "# Выбираем в массив все элементы строки после нулевого (начиная с первого),\n",
    "# формируем массив в виде квадратной матрицы размером 28x28\n",
    "image_array = numpy.asfarray(all_values[1:]).reshape((28,28)) \n",
    "# Выводим массив на экран, выбирая цветовую палитру оттенков серого \n",
    "matplotlib.pyplot.imshow(image_array, cmap='Greys',interpolation='None')\n"
   ]
  },
  {
   "cell_type": "code",
   "execution_count": null,
   "id": "22c21211",
   "metadata": {},
   "outputs": [],
   "source": []
  }
 ],
 "metadata": {
  "kernelspec": {
   "display_name": "Python 3 (ipykernel)",
   "language": "python",
   "name": "python3"
  },
  "language_info": {
   "codemirror_mode": {
    "name": "ipython",
    "version": 3
   },
   "file_extension": ".py",
   "mimetype": "text/x-python",
   "name": "python",
   "nbconvert_exporter": "python",
   "pygments_lexer": "ipython3",
   "version": "3.11.5"
  }
 },
 "nbformat": 4,
 "nbformat_minor": 5
}
