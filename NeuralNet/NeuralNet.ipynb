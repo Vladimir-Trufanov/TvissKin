{
 "cells": [
  {
   "cell_type": "code",
   "execution_count": 5,
   "id": "d1b4553d",
   "metadata": {},
   "outputs": [
    {
     "data": {
      "text/plain": [
       "array([[0.20685978],\n",
       "       [0.23189335],\n",
       "       [0.57775187]])"
      ]
     },
     "execution_count": 5,
     "metadata": {},
     "output_type": "execute_result"
    }
   ],
   "source": [
    "# Импортируем модули numpy и scipy.special\n",
    "import numpy\n",
    "import scipy.special\n",
    "\n",
    "# Определяем класс нейронной сети \n",
    "class neuralNetwork:\n",
    "\n",
    "    # ----------------------------------------------------------------------------------------------------------------\n",
    "    # Инициализировать нейронную сеть: определить количество узлов входного, скрытого и выходного слоев. Таким образом \n",
    "    # определить конфигурацию и размер нейронной сети. Дополнительно включить коэффициент обучения.\n",
    "    # ----------------------------------------------------------------------------------------------------------------\n",
    "    def __init__(self, inputnodes, hiddennodes, outputnodes, learningrate) :\n",
    "        # Задаём количество узлов во входном, скрытом и выходном слое \n",
    "        self.inodes = inputnodes\n",
    "        self.hnodes = hiddennodes \n",
    "        self.onodes = outputnodes\n",
    "        \n",
    "        # Определяем матрицы весовых коэффициентов связей wih и who. Веса связей между узлом i и узлом j\n",
    "        # следующего слоя обозначены как wij:   w11 w21\n",
    "        #                                       w12 w22    и т.д.\n",
    "        self.wih = numpy.random.normal(0.0, pow(self.hnodes, -0.5), (self.hnodes, self.inodes))\n",
    "        self.who = numpy.random.normal(0.0, pow(self.onodes, -0.5), (self.onodes, self.hnodes))\n",
    "\n",
    "        # Определяем коэффициент обучения \n",
    "        self.lr = learningrate \n",
    "\n",
    "        # Определяем сигмоиду в качестве функции активации \n",
    "        self.activation_function = lambda x: scipy.special.expit(x)\n",
    "\n",
    "    # ----------------------------------------------------------------------------------------------------------------\n",
    "    # Тренировать нейронную сеть \n",
    "    # ----------------------------------------------------------------------------------------------------------------\n",
    "    def train (self, inputs_list, targets__list) :\n",
    "        # Преобразовываем списки входных значений в двухмерные массивы \n",
    "        inputs = numpy.array(inputs_list, ndmin=2).T\n",
    "        targets = numpy.array(targets_list, ndmin=2).T\n",
    "        \n",
    "        # Рассчитываем входящие сигналы для скрытого слоя \n",
    "        hidden_inputs = numpy.dot(self.wih, inputs)\n",
    "        # Рассчитываем исходящие сигналы для скрытого слоя \n",
    "        hidden_outputs = self.activation_function(hidden_inputs)\n",
    "        # Рассчитываем входящие сигналы для выходного слоя \n",
    "        final_inputs = numpy.dot(self.who, hidden_outputs)\n",
    "        # Рассчитываем исходящие сигналы для выходного слоя \n",
    "        final_outputs = self.activation_function(final_inputs)\n",
    "        \n",
    "        # Рассчитываем ошибки выходного слоя \n",
    "        output_errors = targets - final_outputs\n",
    "        \n",
    "        # Рассчитываем ошибки скрытого слоя - это ошибки output_errors,\n",
    "        # распределенные пропорционально весовым коэффициентам связей\n",
    "        # и рекомбинированные на скрытых узлах \n",
    "        hidden_errors = numpy.dot(self.who.T, output_errors)\n",
    "        \n",
    "        # Обновляем весовые коэффициенты связей между скрытым и выходным слоями \n",
    "        self.who+=self.lr*numpy.dot((output_errors*final_outputs *(1.0-final_outputs)), numpy.transpose(hidden_outputs))\n",
    "        # Обновляем весовые коэффициенты связей между входным и скрытым слоями \n",
    "        self.wih+=self.lr*numpy.dot((hidden_errors*hidden_outputs*(1.0-hidden_outputs)),numpy.transpose(inputs)\n",
    "\n",
    "    # ----------------------------------------------------------------------------------------------------------------\n",
    "    # Опросить нейронную сеть\n",
    "    # ----------------------------------------------------------------------------------------------------------------\n",
    "    def query(self, inputs_list):\n",
    "        # Преобразовываем список входных значений в двухмерный массив\n",
    "        inputs = numpy.array(inputs_list, ndmin=2).T\n",
    "        # Рассчитываем входящие сигналы для скрытого слоя \n",
    "        hidden_inputs = numpy.dot(self.wih, inputs)\n",
    "        # Рассчитываем исходящие сигналы для скрытого слоя \n",
    "        hidden_outputs = self.activation_function(hidden_inputs)\n",
    "        # Рассчитываем входящие сигналы для выходного слоя \n",
    "        final_inputs = numpy.dot(self.who, hidden_outputs)\n",
    "        # Рассчитываем исходящие сигналы для выходного слоя \n",
    "        final_outputs = self.activation_function(final_inputs)\n",
    "        return final_outputs\n",
    "\n",
    "# Создаем объект небольшой сети с тремя узлами в каждом слое и коэффициентом обучения, равным 0.3\n",
    "input_nodes = 3\n",
    "hidden_nodes = 3 \n",
    "output_nodes = 3\n",
    "# коэффициент обучения равен 0,3 \n",
    "learning_rate = 0.3\n",
    "# создаем экземпляр нейронной сети\n",
    "n = neuralNetwork(input_nodes,hidden_nodes,output_nodes,learning_rate)\n",
    "\n",
    "n.query([1.0, 0.5, -1.5])\n"
   ]
  },
  {
   "cell_type": "code",
   "execution_count": null,
   "id": "16166825",
   "metadata": {},
   "outputs": [],
   "source": []
  },
  {
   "cell_type": "code",
   "execution_count": null,
   "id": "9fe31732",
   "metadata": {},
   "outputs": [],
   "source": []
  },
  {
   "cell_type": "code",
   "execution_count": null,
   "id": "36b1f470",
   "metadata": {},
   "outputs": [],
   "source": []
  }
 ],
 "metadata": {
  "kernelspec": {
   "display_name": "Python 3 (ipykernel)",
   "language": "python",
   "name": "python3"
  },
  "language_info": {
   "codemirror_mode": {
    "name": "ipython",
    "version": 3
   },
   "file_extension": ".py",
   "mimetype": "text/x-python",
   "name": "python",
   "nbconvert_exporter": "python",
   "pygments_lexer": "ipython3",
   "version": "3.11.5"
  }
 },
 "nbformat": 4,
 "nbformat_minor": 5
}
