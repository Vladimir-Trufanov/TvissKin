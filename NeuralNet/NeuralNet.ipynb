{
 "cells": [
  {
   "cell_type": "code",
   "execution_count": 7,
   "id": "d1b4553d",
   "metadata": {},
   "outputs": [],
   "source": [
    "# определение класса нейронной сети \n",
    "class neuralNetwork:\n",
    "\n",
    "    # ----------------------------------------------------------------------------------------------------------------\n",
    "    # Инициализировать нейронную сеть: определить количество узлов входного, скрытого и выходного слоев. Таким образом \n",
    "    # определить конфигурацию и размер нейронной сети. Дополнительно включить коэффициент обучения.\n",
    "    # ----------------------------------------------------------------------------------------------------------------\n",
    "    def __init__(self, inputnodes, hiddennodes, outputnodes, learningrate) :\n",
    "        # Задаём количество узлов во входном, скрытом и выходном слое \n",
    "        self.inodes = inputnodes\n",
    "        self.hnodes = hiddennodes \n",
    "        self.onodes = outputnodes\n",
    "        # Определяем коэффициент обучения \n",
    "        self.lr = learningrate \n",
    "    pass\n",
    "\n",
    "    # тренировка нейронной сети \n",
    "    #def train():\n",
    "    #pass\n",
    "\n",
    "    # опрос нейронной сети \n",
    "    #def query():\n",
    "    #pass\n",
    "\n",
    "pass\n",
    "\n",
    "# Создаем объект небольшой сети с тремя узлами в каждом \n",
    "# слое и коэффициентом обучения, равным 0,3\n",
    "\n",
    "# количество входных, скрытых и выходных узлов \n",
    "input_nodes = 3\n",
    "hidden_nodes = 3 \n",
    "output_nodes = 3\n",
    "# коэффициент обучения равен 0,3 \n",
    "learning_rate = 0.3\n",
    "# создать экземпляр нейронной сети\n",
    "n = neuralNetwork(input_nodes,hidden_nodes,output_nodes,learning_rate)\n",
    "\n"
   ]
  },
  {
   "cell_type": "code",
   "execution_count": null,
   "id": "16166825",
   "metadata": {},
   "outputs": [],
   "source": []
  }
 ],
 "metadata": {
  "kernelspec": {
   "display_name": "Python 3 (ipykernel)",
   "language": "python",
   "name": "python3"
  },
  "language_info": {
   "codemirror_mode": {
    "name": "ipython",
    "version": 3
   },
   "file_extension": ".py",
   "mimetype": "text/x-python",
   "name": "python",
   "nbconvert_exporter": "python",
   "pygments_lexer": "ipython3",
   "version": "3.11.5"
  }
 },
 "nbformat": 4,
 "nbformat_minor": 5
}
